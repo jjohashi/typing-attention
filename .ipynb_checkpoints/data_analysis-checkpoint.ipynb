{
 "cells": [
  {
   "cell_type": "markdown",
   "metadata": {},
   "source": [
    "# COGS 189: Typing & Attention"
   ]
  },
  {
   "cell_type": "code",
   "execution_count": 1,
   "metadata": {},
   "outputs": [],
   "source": [
    "import matplotlib.pyplot as plt\n",
    "import numpy as np\n",
    "import pandas as pd\n",
    "import os\n",
    "from os.path import join as pjoin\n",
    "import json\n",
    "\n",
    "import seaborn as sns\n",
    "sns.set()\n",
    "sns.set_context('talk')"
   ]
  },
  {
   "cell_type": "markdown",
   "metadata": {},
   "source": [
    "## Reading the Saved Dataframes"
   ]
  },
  {
   "cell_type": "code",
   "execution_count": 2,
   "metadata": {},
   "outputs": [],
   "source": [
    "norm_control = pd.read_csv('dataframes/norm_control.csv')\n",
    "norm_IV1 = pd.read_csv('dataframes/norm_IV1.csv')\n",
    "norm_IV2 = pd.read_csv('dataframes/norm_IV2.csv')\n",
    "norm_IVboth = pd.read_csv('dataframes/norm_IVboth.csv')\n",
    "\n",
    "norm_IV1_typing = pd.read_csv('dataframes/norm_IV1_typing.csv')\n",
    "norm_IV2_typing = pd.read_csv('dataframes/norm_IV2_typing.csv')\n",
    "norm_IVboth_typing = pd.read_csv('dataframes/norm_IVboth_typing.csv')"
   ]
  },
  {
   "cell_type": "markdown",
   "metadata": {},
   "source": [
    "# Data Analysis"
   ]
  },
  {
   "cell_type": "markdown",
   "metadata": {},
   "source": [
    "## Bar Plots"
   ]
  },
  {
   "cell_type": "markdown",
   "metadata": {},
   "source": [
    "### Loudness, Familiarity, Both (IVs) VS. WPM (DV)"
   ]
  },
  {
   "cell_type": "code",
   "execution_count": 3,
   "metadata": {},
   "outputs": [
    {
     "name": "stdout",
     "output_type": "stream",
     "text": [
      "WPM           1.098439\n",
      "accuracy      1.044638\n",
      "keystrokes    1.054889\n",
      "keypos        1.098456\n",
      "keyneg        0.574468\n",
      "dtype: float64\n",
      "1.0984393757503\n",
      "1.0446383488777558\n"
     ]
    }
   ],
   "source": [
    "avg_normTyping1 = norm_IV1_typing.mean(axis=0)\n",
    "print(avg_normTyping1)\n",
    "\n",
    "print(avg_normTyping1['WPM'])\n",
    "print(avg_normTyping1['accuracy'])"
   ]
  },
  {
   "cell_type": "code",
   "execution_count": 4,
   "metadata": {},
   "outputs": [
    {
     "name": "stdout",
     "output_type": "stream",
     "text": [
      "WPM           1.137188\n",
      "accuracy      1.050953\n",
      "keystrokes    1.069630\n",
      "keypos        1.132995\n",
      "keyneg        0.465327\n",
      "dtype: float64\n",
      "1.1371882086167802\n",
      "1.050953163166412\n"
     ]
    }
   ],
   "source": [
    "avg_normTyping2 = norm_IV2_typing.mean(axis=0)\n",
    "print(avg_normTyping2)\n",
    "\n",
    "print(avg_normTyping2['WPM'])\n",
    "print(avg_normTyping2['accuracy'])"
   ]
  },
  {
   "cell_type": "code",
   "execution_count": 5,
   "metadata": {},
   "outputs": [
    {
     "name": "stdout",
     "output_type": "stream",
     "text": [
      "WPM           1.172136\n",
      "accuracy      1.057899\n",
      "keystrokes    1.119757\n",
      "keypos        1.169199\n",
      "keyneg        0.576340\n",
      "dtype: float64\n",
      "1.1721355208750166\n",
      "1.0578990065459133\n"
     ]
    }
   ],
   "source": [
    "avg_normTyping3 = norm_IVboth_typing.mean(axis=0)\n",
    "print(avg_normTyping3)\n",
    "\n",
    "print(avg_normTyping3['WPM'])\n",
    "print(avg_normTyping3['accuracy'])"
   ]
  },
  {
   "cell_type": "code",
   "execution_count": 6,
   "metadata": {},
   "outputs": [
    {
     "data": {
      "text/html": [
       "<div>\n",
       "<style scoped>\n",
       "    .dataframe tbody tr th:only-of-type {\n",
       "        vertical-align: middle;\n",
       "    }\n",
       "\n",
       "    .dataframe tbody tr th {\n",
       "        vertical-align: top;\n",
       "    }\n",
       "\n",
       "    .dataframe thead th {\n",
       "        text-align: right;\n",
       "    }\n",
       "</style>\n",
       "<table border=\"1\" class=\"dataframe\">\n",
       "  <thead>\n",
       "    <tr style=\"text-align: right;\">\n",
       "      <th></th>\n",
       "      <th>Typing</th>\n",
       "      <th>WPM</th>\n",
       "    </tr>\n",
       "  </thead>\n",
       "  <tbody>\n",
       "    <tr>\n",
       "      <th>0</th>\n",
       "      <td>norm_IV1_typing</td>\n",
       "      <td>1.098439</td>\n",
       "    </tr>\n",
       "    <tr>\n",
       "      <th>1</th>\n",
       "      <td>norm_IV2_typing</td>\n",
       "      <td>1.137188</td>\n",
       "    </tr>\n",
       "    <tr>\n",
       "      <th>2</th>\n",
       "      <td>norm_IVboth_typing</td>\n",
       "      <td>1.172136</td>\n",
       "    </tr>\n",
       "  </tbody>\n",
       "</table>\n",
       "</div>"
      ],
      "text/plain": [
       "               Typing       WPM\n",
       "0     norm_IV1_typing  1.098439\n",
       "1     norm_IV2_typing  1.137188\n",
       "2  norm_IVboth_typing  1.172136"
      ]
     },
     "execution_count": 6,
     "metadata": {},
     "output_type": "execute_result"
    }
   ],
   "source": [
    "WPM_df = pd.DataFrame([('norm_IV1_typing', avg_normTyping1['WPM']),\n",
    "                       ('norm_IV2_typing', avg_normTyping2['WPM']),\n",
    "                       ('norm_IVboth_typing', avg_normTyping3['WPM'])],\n",
    "         columns=('Typing', 'WPM'))\n",
    "\n",
    "WPM_df"
   ]
  },
  {
   "cell_type": "code",
   "execution_count": 7,
   "metadata": {},
   "outputs": [
    {
     "data": {
      "text/plain": [
       "<matplotlib.axes._subplots.AxesSubplot at 0x12b7de1f0>"
      ]
     },
     "execution_count": 7,
     "metadata": {},
     "output_type": "execute_result"
    },
    {
     "data": {
      "image/png": "[encoded data removed]",
      "text/plain": [
       "<matplotlib.figure.Figure at 0x12b7bd610>"
      ]
     },
     "metadata": {
      "needs_background": "light"
     },
     "output_type": "display_data"
    }
   ],
   "source": [
    "WPM_df.plot.bar(x='Typing', y='WPM', rot=0, \n",
    "                figsize=(10,5), \n",
    "                title='Loudness, Familiarity, Both VS. WPM', \n",
    "                xlabel=\"IV: Loudness, Familiarity, Both\",\n",
    "                ylabel=\"DV: WPM\")\n"
   ]
  },
  {
   "cell_type": "markdown",
   "metadata": {},
   "source": [
    "### Loudness, Familiarity, Both (IVs) VS. Accuracy (DV)"
   ]
  },
  {
   "cell_type": "code",
   "execution_count": 8,
   "metadata": {},
   "outputs": [
    {
     "data": {
      "text/html": [
       "<div>\n",
       "<style scoped>\n",
       "    .dataframe tbody tr th:only-of-type {\n",
       "        vertical-align: middle;\n",
       "    }\n",
       "\n",
       "    .dataframe tbody tr th {\n",
       "        vertical-align: top;\n",
       "    }\n",
       "\n",
       "    .dataframe thead th {\n",
       "        text-align: right;\n",
       "    }\n",
       "</style>\n",
       "<table border=\"1\" class=\"dataframe\">\n",
       "  <thead>\n",
       "    <tr style=\"text-align: right;\">\n",
       "      <th></th>\n",
       "      <th>Typing</th>\n",
       "      <th>Accuracy</th>\n",
       "    </tr>\n",
       "  </thead>\n",
       "  <tbody>\n",
       "    <tr>\n",
       "      <th>0</th>\n",
       "      <td>norm_IV1_typing</td>\n",
       "      <td>1.044638</td>\n",
       "    </tr>\n",
       "    <tr>\n",
       "      <th>1</th>\n",
       "      <td>norm_IV2_typing</td>\n",
       "      <td>1.050953</td>\n",
       "    </tr>\n",
       "    <tr>\n",
       "      <th>2</th>\n",
       "      <td>norm_IVboth_typing</td>\n",
       "      <td>1.057899</td>\n",
       "    </tr>\n",
       "  </tbody>\n",
       "</table>\n",
       "</div>"
      ],
      "text/plain": [
       "               Typing  Accuracy\n",
       "0     norm_IV1_typing  1.044638\n",
       "1     norm_IV2_typing  1.050953\n",
       "2  norm_IVboth_typing  1.057899"
      ]
     },
     "execution_count": 8,
     "metadata": {},
     "output_type": "execute_result"
    }
   ],
   "source": [
    "accuracy_df = pd.DataFrame([('norm_IV1_typing', avg_normTyping1['accuracy']),\n",
    "                       ('norm_IV2_typing', avg_normTyping2['accuracy']),\n",
    "                       ('norm_IVboth_typing', avg_normTyping3['accuracy'])],\n",
    "         columns=('Typing', 'Accuracy'))\n",
    "\n",
    "accuracy_df"
   ]
  },
  {
   "cell_type": "code",
   "execution_count": 9,
   "metadata": {},
   "outputs": [
    {
     "data": {
      "text/plain": [
       "<matplotlib.axes._subplots.AxesSubplot at 0x12b8a37c0>"
      ]
     },
     "execution_count": 9,
     "metadata": {},
     "output_type": "execute_result"
    },
    {
     "data": {
      "image/png": "[encoded data removed]",
      "text/plain": [
       "<matplotlib.figure.Figure at 0x123ac0cd0>"
      ]
     },
     "metadata": {
      "needs_background": "light"
     },
     "output_type": "display_data"
    }
   ],
   "source": [
    "accuracy_df.plot.bar(x='Typing', y='Accuracy', rot=0, \n",
    "                figsize=(10,5), \n",
    "                title='Loudness, Familiarity, Both VS. Accuracy', \n",
    "                xlabel=\"IV: Loudness, Familiarity, Both\",\n",
    "                ylabel=\"DV: Accuracy\")"
   ]
  },
  {
   "cell_type": "markdown",
   "metadata": {},
   "source": [
    "### Loudness, Familiarity, Both (IVs) VS. Attention (DV)"
   ]
  },
  {
   "cell_type": "code",
   "execution_count": 10,
   "metadata": {},
   "outputs": [],
   "source": [
    "#Need help with the attention data since there are so many rows!!!!"
   ]
  },
  {
   "cell_type": "markdown",
   "metadata": {},
   "source": [
    "## Line Plot: Chart of Attention vs. Time"
   ]
  },
  {
   "cell_type": "code",
   "execution_count": null,
   "metadata": {},
   "outputs": [],
   "source": []
  }
 ],
 "metadata": {
  "kernelspec": {
   "display_name": "Python 3",
   "language": "python",
   "name": "python3"
  },
  "language_info": {
   "codemirror_mode": {
    "name": "ipython",
    "version": 3
   },
   "file_extension": ".py",
   "mimetype": "text/x-python",
   "name": "python",
   "nbconvert_exporter": "python",
   "pygments_lexer": "ipython3",
   "version": "3.9.0"
  }
 },
 "nbformat": 4,
 "nbformat_minor": 4
}
